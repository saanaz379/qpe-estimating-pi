{
  "nbformat": 4,
  "nbformat_minor": 0,
  "metadata": {
    "colab": {
      "provenance": [],
      "authorship_tag": "ABX9TyOpP6turBmfOAlZWL5jNbZb"
    },
    "kernelspec": {
      "name": "python3",
      "display_name": "Python 3"
    },
    "language_info": {
      "name": "python"
    }
  },
  "cells": [
    {
      "cell_type": "code",
      "source": [
        "# Compare:\n",
        "#  (1) classical quantum phase estimation\n",
        "#             versus\n",
        "#  (2) iterative quantum phase estimation\n",
        "# for estimating pi"
      ],
      "metadata": {
        "id": "fLwG0QVsB8Kj"
      },
      "execution_count": 1,
      "outputs": []
    },
    {
      "cell_type": "code",
      "execution_count": 1,
      "metadata": {
        "id": "Aq3MesPES9sU"
      },
      "outputs": [],
      "source": [
        "! pip install qiskit --quiet\n",
        "! pip install qiskit-aer --quiet\n",
        "! pip install qiskit-ibmq-provider --quiet"
      ]
    },
    {
      "cell_type": "code",
      "source": [
        "# (1) classical quantum phase estimation"
      ],
      "metadata": {
        "id": "Dro7EqVdEgTc"
      },
      "execution_count": null,
      "outputs": []
    },
    {
      "cell_type": "code",
      "source": [
        "import numpy as np\n",
        "import math\n",
        "import qiskit.quantum_info as qi\n",
        "\n",
        "from math import pi\n",
        "from random import random\n",
        "from qiskit import *\n",
        "from qiskit.providers.aer import AerSimulator"
      ],
      "metadata": {
        "id": "GmGUORfo1l-q"
      },
      "execution_count": 82,
      "outputs": []
    },
    {
      "cell_type": "code",
      "source": [
        "simulator = AerSimulator(method = \"statevector\")\n",
        "simulator"
      ],
      "metadata": {
        "colab": {
          "base_uri": "https://localhost:8080/"
        },
        "id": "y5Uzrr9A3GU_",
        "outputId": "122c3aec-8c1b-4157-9031-b63baad57d28"
      },
      "execution_count": 3,
      "outputs": [
        {
          "output_type": "execute_result",
          "data": {
            "text/plain": [
              "AerSimulator('aer_simulator')"
            ]
          },
          "metadata": {},
          "execution_count": 3
        }
      ]
    },
    {
      "cell_type": "code",
      "source": [
        "def qpe_pre(circ_, n_qubits):\n",
        "    circ_.h(range(n_qubits))\n",
        "    circ_.x(n_qubits)\n",
        "    for x in reversed(range(n_qubits)):\n",
        "        for _ in range(2 ** (n_qubits - 1 - x)):\n",
        "            circ_.cp(1, n_qubits - 1 - x, n_qubits)"
      ],
      "metadata": {
        "id": "iJAUjATn1pNm"
      },
      "execution_count": 4,
      "outputs": []
    },
    {
      "cell_type": "code",
      "source": [
        "def qft_dagger(circ_, n_qubits):\n",
        "    for qubit in range(int(n_qubits / 2)):\n",
        "        circ_.swap(qubit, n_qubits - qubit - 1)\n",
        "    for j in range(0, n_qubits):\n",
        "        for m in range(j):\n",
        "            circ_.cp(-np.pi / float(2 ** (j - m)), m, j)\n",
        "        circ_.h(j)"
      ],
      "metadata": {
        "id": "qGVmWt-m29Ly"
      },
      "execution_count": 5,
      "outputs": []
    },
    {
      "cell_type": "code",
      "source": [
        "def create_circuit(n_qubits):\n",
        "    circ = QuantumCircuit(n_qubits + 1, n_qubits)\n",
        "    qpe_pre(circ, n_qubits)\n",
        "    qft_dagger(circ, n_qubits)\n",
        "    circ.measure(range(n_qubits), range(n_qubits))\n",
        "    return circ"
      ],
      "metadata": {
        "id": "06T_eXTb2-LE"
      },
      "execution_count": 6,
      "outputs": []
    },
    {
      "cell_type": "code",
      "source": [
        "def run_job(circ, backend, shots=10000):\n",
        "    job = execute(circ, backend, shots=shots)\n",
        "    return job.result().get_counts()"
      ],
      "metadata": {
        "id": "y4wBam7g3BnH"
      },
      "execution_count": 7,
      "outputs": []
    },
    {
      "cell_type": "code",
      "source": [
        "def get_pi_estimate(n_qubits, circ=None, backend=simulator):\n",
        "    if not circ:\n",
        "        circ = create_circuit(n_qubits)\n",
        "    counts = run_job(circ, backend=backend, shots=1000)\n",
        "    max_counts_result = max(counts, key=counts.get)\n",
        "    max_counts_result = int(max_counts_result, 2)\n",
        "    theta = max_counts_result / 2 ** n_qubits\n",
        "    return (1. / (2 * theta))"
      ],
      "metadata": {
        "id": "zMjo0VBJ3JvZ"
      },
      "execution_count": 8,
      "outputs": []
    },
    {
      "cell_type": "code",
      "source": [
        "nq = list(range(2, 15))\n",
        "pi_estimates = []\n",
        "for n in nq:\n",
        "  the_pi_estimate = get_pi_estimate(n)\n",
        "  pi_estimates.append(the_pi_estimate)\n",
        "  print(f\"{n} qubits, pi = {the_pi_estimate}\")"
      ],
      "metadata": {
        "colab": {
          "base_uri": "https://localhost:8080/"
        },
        "id": "HszpGUdQ2zvs",
        "outputId": "0925c26e-9320-4e5d-e759-726a11764f93"
      },
      "execution_count": 9,
      "outputs": [
        {
          "output_type": "stream",
          "name": "stdout",
          "text": [
            "2 qubits, pi = 2.0\n",
            "3 qubits, pi = 4.0\n",
            "4 qubits, pi = 2.6666666666666665\n",
            "5 qubits, pi = 3.2\n",
            "6 qubits, pi = 3.2\n",
            "7 qubits, pi = 3.2\n",
            "8 qubits, pi = 3.1219512195121952\n",
            "9 qubits, pi = 3.1604938271604937\n",
            "10 qubits, pi = 3.1411042944785277\n",
            "11 qubits, pi = 3.1411042944785277\n",
            "12 qubits, pi = 3.1411042944785277\n",
            "13 qubits, pi = 3.1411042944785277\n",
            "14 qubits, pi = 3.1411042944785277\n"
          ]
        }
      ]
    },
    {
      "cell_type": "code",
      "source": [
        "# (2) iterative quantum phase estimation"
      ],
      "metadata": {
        "id": "Tmgonz_CE6-r"
      },
      "execution_count": 26,
      "outputs": []
    },
    {
      "cell_type": "code",
      "source": [
        "q = QuantumRegister(1)\n",
        "a = QuantumRegister(1)\n",
        "c = ClassicalRegister(1)"
      ],
      "metadata": {
        "id": "Pk2cTlQgzjc_"
      },
      "execution_count": 36,
      "outputs": []
    },
    {
      "cell_type": "code",
      "source": [
        "E_1, E_2 = (2 * np.pi * random(), 2 * np.pi * random())"
      ],
      "metadata": {
        "id": "yRiF6YoEzn2N"
      },
      "execution_count": 81,
      "outputs": []
    },
    {
      "cell_type": "code",
      "source": [
        "t = 1\n",
        "unitary = QuantumCircuit(q)\n",
        "unitary.p(E_2 * t, q[0])\n",
        "unitary.x(q[0])\n",
        "unitary.p(E_1 * t, q[0])\n",
        "unitary.x(q[0])"
      ],
      "metadata": {
        "colab": {
          "base_uri": "https://localhost:8080/"
        },
        "id": "dKrwbsRizpns",
        "outputId": "11db7cb9-bad9-4420-fc0e-662b640df894"
      },
      "execution_count": 74,
      "outputs": [
        {
          "output_type": "execute_result",
          "data": {
            "text/plain": [
              "<qiskit.circuit.instructionset.InstructionSet at 0x7f36f578f310>"
            ]
          },
          "metadata": {},
          "execution_count": 74
        }
      ]
    },
    {
      "cell_type": "code",
      "source": [
        "control_u = unitary.to_gate().control(1)"
      ],
      "metadata": {
        "id": "foPR4tJZzrZD"
      },
      "execution_count": 75,
      "outputs": []
    },
    {
      "cell_type": "code",
      "source": [
        "num_bits_estimate = 10\n",
        "phase = 0\n",
        "for k_precision in reversed(range(num_bits_estimate)):\n",
        "    k_circ = QuantumCircuit(q, a, c)\n",
        "    k_circ.x(q[0])\n",
        "    k_circ.h(a[0])\n",
        "    for order in range(2 ** k_precision):\n",
        "        k_circ.append(control_u, [0, 1])\n",
        "    phase_shift = 2 * np.pi * phase * 2 ** k_precision\n",
        "    k_circ.p(-phase_shift, a[0])\n",
        "    k_circ.h(a[0])\n",
        "    k_circ.measure(a[0], c[0])\n",
        "    job = execute(k_circ, simulator, shots=1000)\n",
        "    result = job.result()\n",
        "    counts = result.get_counts()\n",
        "    value = int(max(counts, key=counts.get))\n",
        "    phase += value / 2 ** (k_precision + 1)"
      ],
      "metadata": {
        "id": "CJD_z2D_ztdT"
      },
      "execution_count": 76,
      "outputs": []
    },
    {
      "cell_type": "code",
      "source": [
        "eigenvalue = 2 * np.pi * phase / t\n",
        "print(\"Estimated eigenvalue: {}\".format(eigenvalue))"
      ],
      "metadata": {
        "colab": {
          "base_uri": "https://localhost:8080/"
        },
        "id": "qac8v-JZzxDd",
        "outputId": "9c086c51-d067-411a-ba17-7f79d4350ce6"
      },
      "execution_count": 83,
      "outputs": [
        {
          "output_type": "stream",
          "name": "stdout",
          "text": [
            "Estimated eigenvalue: 2.9145634969827183\n"
          ]
        }
      ]
    }
  ]
}